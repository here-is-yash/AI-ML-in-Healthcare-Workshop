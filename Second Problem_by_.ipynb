{
  "metadata": {
    "kernelspec": {
      "language": "python",
      "display_name": "Python 3",
      "name": "python3"
    },
    "language_info": {
      "name": "python",
      "version": "3.7.12",
      "mimetype": "text/x-python",
      "codemirror_mode": {
        "name": "ipython",
        "version": 3
      },
      "pygments_lexer": "ipython3",
      "nbconvert_exporter": "python",
      "file_extension": ".py"
    },
    "colab": {
      "name": "Second Problem by_.ipynb",
      "provenance": []
    }
  },
  "nbformat_minor": 0,
  "nbformat": 4,
  "cells": [
    {
      "cell_type": "code",
      "source": [
        "# from google.colab import drive\n",
        "# import os,cv2, sys, math , csv\n",
        "# drive.mount('/content/drive')"
      ],
      "metadata": {
        "id": "hg6jmNoFuBqA",
        "execution": {
          "iopub.status.busy": "2022-04-29T04:44:40.631888Z",
          "iopub.execute_input": "2022-04-29T04:44:40.632531Z",
          "iopub.status.idle": "2022-04-29T04:44:40.658932Z",
          "shell.execute_reply.started": "2022-04-29T04:44:40.632440Z",
          "shell.execute_reply": "2022-04-29T04:44:40.657973Z"
        },
        "trusted": true
      },
      "execution_count": null,
      "outputs": []
    },
    {
      "cell_type": "code",
      "source": [
        ""
      ],
      "metadata": {
        "id": "y-MzK4wvuZsm",
        "trusted": true
      },
      "execution_count": null,
      "outputs": []
    },
    {
      "cell_type": "markdown",
      "source": [
        ""
      ],
      "metadata": {
        "id": "QXoxsTfsBk5E"
      }
    },
    {
      "cell_type": "code",
      "source": [
        "import numpy as np # linear algebra\n",
        "import pandas as pd # data processing, CSV file I/O (e.g. pd.read_csv)\n",
        "import matplotlib.pyplot as plt # showing and rendering figures\n",
        "# io related\n",
        "from skimage.io import imread\n",
        "import os\n",
        "from glob import glob\n",
        "# not needed in Kaggle, but required in Jupyter\n",
        "%matplotlib inline \n",
        "import albumentations as albu"
      ],
      "metadata": {
        "id": "R-euwEupt9PX",
        "execution": {
          "iopub.status.busy": "2022-04-29T04:44:40.660656Z",
          "iopub.execute_input": "2022-04-29T04:44:40.661159Z",
          "iopub.status.idle": "2022-04-29T04:44:42.947076Z",
          "shell.execute_reply.started": "2022-04-29T04:44:40.661122Z",
          "shell.execute_reply": "2022-04-29T04:44:42.946330Z"
        },
        "trusted": true
      },
      "execution_count": null,
      "outputs": []
    },
    {
      "cell_type": "code",
      "source": [
        "import numpy as np\n",
        "import matplotlib.pyplot as plt\n",
        "import tensorflow as tf\n",
        "\n",
        "\n",
        "\n",
        "from tensorflow.keras.applications import *\n",
        "from tensorflow.keras.optimizers import *\n",
        "from tensorflow.keras.losses import *\n",
        "from tensorflow.keras.layers import *\n",
        "from tensorflow.keras.models import *\n",
        "from tensorflow.keras.callbacks import *\n",
        "from tensorflow.keras.preprocessing.image import *\n",
        "from tensorflow.keras.utils import *\n",
        "\n",
        "from sklearn.metrics import *\n",
        "from sklearn.model_selection import *\n",
        "import tensorflow.keras.backend as K\n",
        "\n",
        "\n",
        "import matplotlib.pyplot as plt\n",
        "import seaborn as sns\n",
        "from glob import glob\n",
        "from skimage.io import *"
      ],
      "metadata": {
        "id": "tUZINITS7GOI",
        "execution": {
          "iopub.status.busy": "2022-04-29T04:44:42.950196Z",
          "iopub.execute_input": "2022-04-29T04:44:42.951056Z",
          "iopub.status.idle": "2022-04-29T04:44:48.021429Z",
          "shell.execute_reply.started": "2022-04-29T04:44:42.951013Z",
          "shell.execute_reply": "2022-04-29T04:44:48.020707Z"
        },
        "trusted": true
      },
      "execution_count": null,
      "outputs": []
    },
    {
      "cell_type": "code",
      "source": [
        "base_image_dir = \"../input/eye-dataset/Eye_PACS/input/diabetic-retinopathy-detection\"\n",
        "retina_df = pd.read_csv(os.path.join(base_image_dir, 'Train_labels.csv'))\n",
        "retina_df['PatientId'] = retina_df['image'].map(lambda x: x.split('_')[0])\n",
        "retina_df['path'] = retina_df['image'].map(lambda x: os.path.join(base_image_dir,'train_512/'\n",
        "                                                         '{}.jpeg'.format(x)))\n",
        "retina_df['exists'] = retina_df['path'].map(os.path.exists)\n",
        "print(retina_df['exists'].sum(), 'images found of', retina_df.shape[0], 'total')\n",
        "retina_df['eye'] = retina_df['image'].map(lambda x: 1 if x.split('_')[-1]=='left' else 0)\n",
        "from keras.utils.np_utils import to_categorical\n",
        "retina_df['level_cat'] = retina_df['level'].map(lambda x: to_categorical(x, 1+retina_df['level'].max()))\n",
        "\n",
        "retina_df.dropna(inplace = True)\n",
        "retina_df = retina_df[retina_df['exists']]\n",
        "retina_df.sample(10)"
      ],
      "metadata": {
        "id": "Hx4bUm2Ft9Pb",
        "execution": {
          "iopub.status.busy": "2022-04-29T04:44:48.022798Z",
          "iopub.execute_input": "2022-04-29T04:44:48.023066Z",
          "iopub.status.idle": "2022-04-29T04:45:20.207481Z",
          "shell.execute_reply.started": "2022-04-29T04:44:48.023034Z",
          "shell.execute_reply": "2022-04-29T04:45:20.206757Z"
        },
        "trusted": true
      },
      "execution_count": null,
      "outputs": []
    },
    {
      "cell_type": "code",
      "source": [
        "retina_df[['level', 'eye']].hist(figsize = (10, 5))"
      ],
      "metadata": {
        "id": "6Zf0Bdapt9Pc",
        "execution": {
          "iopub.status.busy": "2022-04-29T04:45:20.209496Z",
          "iopub.execute_input": "2022-04-29T04:45:20.209751Z",
          "iopub.status.idle": "2022-04-29T04:45:20.556333Z",
          "shell.execute_reply.started": "2022-04-29T04:45:20.209718Z",
          "shell.execute_reply": "2022-04-29T04:45:20.555588Z"
        },
        "trusted": true
      },
      "execution_count": null,
      "outputs": []
    },
    {
      "cell_type": "code",
      "source": [
        "from sklearn.model_selection import train_test_split\n",
        "rr_df = retina_df[['PatientId', 'level']].drop_duplicates()\n",
        "train_ids, valid_ids = train_test_split(rr_df['PatientId'], \n",
        "                                   test_size = 0.25, \n",
        "                                   random_state = 2018,\n",
        "                                   stratify = rr_df['level'])\n",
        "raw_train_df = retina_df[retina_df['PatientId'].isin(train_ids)]\n",
        "valid_df = retina_df[retina_df['PatientId'].isin(valid_ids)]\n",
        "rr_df = valid_df[['PatientId', 'level']].drop_duplicates()\n",
        "valid_ids, test_ids = train_test_split(rr_df['PatientId'], \n",
        "                                   test_size = 0.5, \n",
        "                                   random_state = 2018,\n",
        "                                   stratify = rr_df['level'])\n",
        "valid_df = retina_df[retina_df['PatientId'].isin(valid_ids)].reset_index(drop = True)\n",
        "test_df = retina_df[retina_df['PatientId'].isin(test_ids)].reset_index(drop = True)\n",
        "print('train', raw_train_df.shape[0], 'validation', valid_df.shape[0], 'test', test_df.shape[0])\n"
      ],
      "metadata": {
        "id": "PoIE7cRct9Pd",
        "execution": {
          "iopub.status.busy": "2022-04-29T04:45:20.557423Z",
          "iopub.execute_input": "2022-04-29T04:45:20.557657Z",
          "iopub.status.idle": "2022-04-29T04:45:20.588034Z",
          "shell.execute_reply.started": "2022-04-29T04:45:20.557624Z",
          "shell.execute_reply": "2022-04-29T04:45:20.587374Z"
        },
        "trusted": true
      },
      "execution_count": null,
      "outputs": []
    },
    {
      "cell_type": "code",
      "source": [
        "train_df = raw_train_df.groupby(['level', 'eye']).apply(lambda x: x.sample(750, replace = True)\n",
        "                                                      ).reset_index(drop = True)\n",
        "print('New Data Size:', train_df.shape[0], 'Old Size:', raw_train_df.shape[0])\n",
        "train_df[['level', 'eye']].hist(figsize = (10, 5))"
      ],
      "metadata": {
        "id": "ytHWCYQSt9Pe",
        "execution": {
          "iopub.status.busy": "2022-04-29T04:45:20.589347Z",
          "iopub.execute_input": "2022-04-29T04:45:20.589576Z",
          "iopub.status.idle": "2022-04-29T04:45:21.121443Z",
          "shell.execute_reply.started": "2022-04-29T04:45:20.589545Z",
          "shell.execute_reply": "2022-04-29T04:45:21.120746Z"
        },
        "trusted": true
      },
      "execution_count": null,
      "outputs": []
    },
    {
      "cell_type": "code",
      "source": [
        "print(valid_df['path'].iloc[1])"
      ],
      "metadata": {
        "id": "3eNmcoY0fZFE",
        "execution": {
          "iopub.status.busy": "2022-04-29T04:45:21.122675Z",
          "iopub.execute_input": "2022-04-29T04:45:21.125056Z",
          "iopub.status.idle": "2022-04-29T04:45:21.129484Z",
          "shell.execute_reply.started": "2022-04-29T04:45:21.125017Z",
          "shell.execute_reply": "2022-04-29T04:45:21.128930Z"
        },
        "trusted": true
      },
      "execution_count": null,
      "outputs": []
    },
    {
      "cell_type": "code",
      "source": [
        "class DataGenerator(Sequence):\n",
        "    'Generates data for Keras'\n",
        "    \n",
        "    def __init__(self, df,  batch_size=16, dim=(224,224,3), shuffle=True, transform= None):\n",
        "        'Initialization'\n",
        "        self.dim = dim\n",
        "        self.df = df\n",
        "        self.transform=transform\n",
        "        #self.class_map = class_map\n",
        "        self.batch_size = batch_size\n",
        "        self.shuffle = shuffle\n",
        "        self.on_epoch_end()\n",
        "\n",
        "    def __len__(self):\n",
        "        'Denotes the number of batches per epoch'\n",
        "        return int(np.floor(len(self.df) / self.batch_size))\n",
        "\n",
        "    def __getitem__(self, index):\n",
        "        'Generate one batch of data'\n",
        "        # Generate indexes of the batch\n",
        "        indexes = self.indexes[index*self.batch_size:(index+1)*self.batch_size]\n",
        "\n",
        "        # Find list of IDs\n",
        "        list_IDs_temp = [k for k in indexes]\n",
        "\n",
        "        # Generate data\n",
        "        X, y = self.__data_generation(list_IDs_temp)\n",
        "\n",
        "        return X, y\n",
        "    def on_epoch_end(self):\n",
        "        'Updates indexes after each epoch'\n",
        "        self.indexes = np.arange(len(self.df))\n",
        "        if self.shuffle == True:\n",
        "            np.random.shuffle(self.indexes)\n",
        "        print(\"success\")\n",
        "\n",
        "    def __data_generation(self, list_IDs_temp):\n",
        "        'Generates data containing batch_size samples' # X : (n_samples, *dim, n_channels)\n",
        "        # Initialization\n",
        "        batch_imgs = list()\n",
        "        batch_labels = list()\n",
        "\n",
        "        # Generate data\n",
        "        for i in list_IDs_temp:\n",
        "            # Store sample\n",
        "            img = load_img(self.df['path'][i] ,target_size=self.dim)\n",
        "            #img= (img, (224,224), interpolation=cv2.INTER_LINEAR)\n",
        "            \n",
        "            img = img_to_array(img)/255.\n",
        "            if(self.transform != None):\n",
        "                augmented = self.transform(image=img)\n",
        "                img = augmented[\"image\"]\n",
        "#                 mask = augmented[\"mask\"]\n",
        "            batch_imgs.append(img)\n",
        "\n",
        "            label = self.df['level_cat'][i]\n",
        "            batch_labels.append(label)\n",
        "\n",
        "        return np.array(batch_imgs) ,np.array(batch_labels)"
      ],
      "metadata": {
        "id": "qf1qcmvp0ba3",
        "execution": {
          "iopub.status.busy": "2022-04-29T04:45:21.130473Z",
          "iopub.execute_input": "2022-04-29T04:45:21.131209Z",
          "iopub.status.idle": "2022-04-29T04:45:21.185303Z",
          "shell.execute_reply.started": "2022-04-29T04:45:21.131171Z",
          "shell.execute_reply": "2022-04-29T04:45:21.184436Z"
        },
        "trusted": true
      },
      "execution_count": null,
      "outputs": []
    },
    {
      "cell_type": "code",
      "source": [
        "print(train_df)"
      ],
      "metadata": {
        "id": "5_qgkQICUjPu",
        "execution": {
          "iopub.status.busy": "2022-04-29T04:47:57.846095Z",
          "iopub.execute_input": "2022-04-29T04:47:57.846671Z",
          "iopub.status.idle": "2022-04-29T04:47:57.862934Z",
          "shell.execute_reply.started": "2022-04-29T04:47:57.846631Z",
          "shell.execute_reply": "2022-04-29T04:47:57.861763Z"
        },
        "trusted": true
      },
      "execution_count": null,
      "outputs": []
    },
    {
      "cell_type": "code",
      "source": [
        "import cv2\n",
        "transform = albu.Compose([\n",
        "    albu.HorizontalFlip(p=0.5),\n",
        "    albu.VerticalFlip(p=0.5),\n",
        "    albu.CropAndPad (percent = -0.2, keep_size=True, interpolation=cv2.INTER_NEAREST, p=0.5),\n",
        "    albu.ShiftScaleRotate(shift_limit=0.0625, scale_limit=0.1, rotate_limit= 15, interpolation= cv2.INTER_NEAREST,\n",
        "                                          border_mode= cv2.BORDER_REPLICATE, p=0.5)\n",
        "])"
      ],
      "metadata": {
        "execution": {
          "iopub.status.busy": "2022-04-29T04:47:57.889117Z",
          "iopub.execute_input": "2022-04-29T04:47:57.889320Z",
          "iopub.status.idle": "2022-04-29T04:47:57.894696Z",
          "shell.execute_reply.started": "2022-04-29T04:47:57.889297Z",
          "shell.execute_reply": "2022-04-29T04:47:57.894017Z"
        },
        "trusted": true,
        "id": "1BWaALvpl_KK"
      },
      "execution_count": null,
      "outputs": []
    },
    {
      "cell_type": "code",
      "source": [
        "img_size = 224\n",
        "#class_map = class_palette()\n",
        "\n",
        "train_generator1 = DataGenerator(train_df,batch_size=4, dim=(img_size,img_size,3) ,shuffle=True, transform=transform)\n",
        "X,y = train_generator1.__getitem__(0)\n",
        "test_generator1 = DataGenerator(test_df,batch_size=4, dim=(img_size,img_size,3) ,shuffle=False)\n",
        "X_test,y_test = test_generator1.__getitem__(0)\n",
        "print(X.shape, y.shape)\n",
        "print(X_test.shape, y_test.shape)"
      ],
      "metadata": {
        "id": "CH-E8zslc_r2",
        "execution": {
          "iopub.status.busy": "2022-04-29T04:47:57.933978Z",
          "iopub.execute_input": "2022-04-29T04:47:57.934733Z",
          "iopub.status.idle": "2022-04-29T04:47:58.050521Z",
          "shell.execute_reply.started": "2022-04-29T04:47:57.934697Z",
          "shell.execute_reply": "2022-04-29T04:47:58.049766Z"
        },
        "trusted": true
      },
      "execution_count": null,
      "outputs": []
    },
    {
      "cell_type": "code",
      "source": [
        "val_generator = DataGenerator(valid_df,  batch_size=4, dim=(img_size,img_size,3) ,shuffle=False)"
      ],
      "metadata": {
        "id": "Gn2xK6B3t9Pe",
        "execution": {
          "iopub.status.busy": "2022-04-29T04:47:58.052160Z",
          "iopub.execute_input": "2022-04-29T04:47:58.052880Z",
          "iopub.status.idle": "2022-04-29T04:47:58.058716Z",
          "shell.execute_reply.started": "2022-04-29T04:47:58.052841Z",
          "shell.execute_reply": "2022-04-29T04:47:58.057983Z"
        },
        "trusted": true
      },
      "execution_count": null,
      "outputs": []
    },
    {
      "cell_type": "code",
      "source": [
        "print(len(X),len(y))\n",
        "print(val_generator)"
      ],
      "metadata": {
        "id": "RniyTG89t9Pi",
        "execution": {
          "iopub.status.busy": "2022-04-29T04:47:58.060112Z",
          "iopub.execute_input": "2022-04-29T04:47:58.061003Z",
          "iopub.status.idle": "2022-04-29T04:47:58.066836Z",
          "shell.execute_reply.started": "2022-04-29T04:47:58.060823Z",
          "shell.execute_reply": "2022-04-29T04:47:58.066094Z"
        },
        "trusted": true
      },
      "execution_count": null,
      "outputs": []
    },
    {
      "cell_type": "markdown",
      "source": [
        "# R"
      ],
      "metadata": {
        "id": "j4YAb7dDt9Pi"
      }
    },
    {
      "cell_type": "markdown",
      "source": [
        ""
      ],
      "metadata": {
        "id": "H-GxhV9sJHte"
      }
    },
    {
      "cell_type": "code",
      "source": [
        "# Initializing a Sequential model\n",
        "model = Sequential()\n",
        "model.add(VGG19(input_shape=(224,224,3),include_top=False,weights=\"imagenet\"))\n",
        "model.add(Flatten())\n",
        "model.add(BatchNormalization())\n",
        "model.add(Dense(64,kernel_initializer='he_uniform'))\n",
        "model.add(BatchNormalization())\n",
        "model.add(Activation('relu'))\n",
        "model.add(Dropout(0.5))\n",
        "# Creating an output layer\n",
        "model.add(Dense(units= 5, activation='softmax'))\n",
        "\n",
        "for layers in model.layers[:]:\n",
        "    layers.trainable = True\n",
        "\n",
        "c3=tf.keras.callbacks.ReduceLROnPlateau(\n",
        "    monitor=\"loss\",\n",
        "    factor=0.1,\n",
        "    patience=2,\n",
        "    mode=\"auto\",\n",
        "    min_delta=0.0001,\n",
        "    cooldown=0,\n",
        "    min_lr=0.001\n",
        ")\n",
        "\n",
        "model.compile(optimizer='adam',loss='categorical_crossentropy', metrics=['categorical_accuracy','AUC'])\n",
        "#load_model(\"/content/drive/MyDrive/Workshop2022/diabetes_retinopathy.h5\")\n",
        "history=model.fit(train_generator1,epochs= 10,callbacks=[c3], validation_data= val_generator )"
      ],
      "metadata": {
        "id": "Lu-gyzLct9Pn",
        "execution": {
          "iopub.status.busy": "2022-04-29T04:47:58.069179Z",
          "iopub.execute_input": "2022-04-29T04:47:58.069813Z",
          "iopub.status.idle": "2022-04-29T04:58:38.336123Z",
          "shell.execute_reply.started": "2022-04-29T04:47:58.069777Z",
          "shell.execute_reply": "2022-04-29T04:58:38.334583Z"
        },
        "trusted": true
      },
      "execution_count": null,
      "outputs": []
    },
    {
      "cell_type": "code",
      "source": [
        "model.save(\"/content/drive/MyDrive/Workshop2022/diabetes_retinopathy.h5\")"
      ],
      "metadata": {
        "id": "fLeKDO2MdKbX",
        "execution": {
          "iopub.status.busy": "2022-04-29T05:13:32.159353Z",
          "iopub.execute_input": "2022-04-29T05:13:32.159632Z",
          "iopub.status.idle": "2022-04-29T05:13:32.646335Z",
          "shell.execute_reply.started": "2022-04-29T05:13:32.159600Z",
          "shell.execute_reply": "2022-04-29T05:13:32.645549Z"
        },
        "trusted": true
      },
      "execution_count": null,
      "outputs": []
    },
    {
      "cell_type": "code",
      "source": [
        "\n",
        "x_test=[]\n",
        "y_test =[]\n",
        "for i in test_df['path']:\n",
        "    x = cv2.cvtColor(cv2.imread(i), cv2.COLOR_BGR2RGB)\n",
        "    \n",
        "    x= cv2.resize(x, (224,224))\n",
        "    x_test.append(x)\n",
        "for i in test_df['level_cat']:\n",
        "    y_test.append(i)\n",
        "x_test = np.array(x_test)\n",
        "y_test = np.array(y_test)\n",
        "print(x_test.shape)\n",
        "print(y_test.shape)"
      ],
      "metadata": {
        "execution": {
          "iopub.status.busy": "2022-04-29T05:13:36.796700Z",
          "iopub.execute_input": "2022-04-29T05:13:36.797131Z",
          "iopub.status.idle": "2022-04-29T05:13:51.545696Z",
          "shell.execute_reply.started": "2022-04-29T05:13:36.797085Z",
          "shell.execute_reply": "2022-04-29T05:13:51.544208Z"
        },
        "trusted": true,
        "id": "jgB6bFcul_KO"
      },
      "execution_count": null,
      "outputs": []
    },
    {
      "cell_type": "code",
      "source": [
        "Y_pred=[]\n",
        "for i in range (len(x_test)):\n",
        "    y_pred = model.predict(np.expand_dims(x_test[i], axis=0))\n",
        "    Y_pred.append(y_pred)\n",
        "Y_pred= np.asarray(Y_pred)"
      ],
      "metadata": {
        "execution": {
          "iopub.status.busy": "2022-04-29T05:13:51.547320Z",
          "iopub.execute_input": "2022-04-29T05:13:51.547656Z",
          "iopub.status.idle": "2022-04-29T05:14:56.661689Z",
          "shell.execute_reply.started": "2022-04-29T05:13:51.547619Z",
          "shell.execute_reply": "2022-04-29T05:14:56.660969Z"
        },
        "trusted": true,
        "id": "AY-9pL-Kl_KP"
      },
      "execution_count": null,
      "outputs": []
    },
    {
      "cell_type": "code",
      "source": [
        "print(Y_pred.shape)"
      ],
      "metadata": {
        "execution": {
          "iopub.status.busy": "2022-04-29T05:14:56.663177Z",
          "iopub.execute_input": "2022-04-29T05:14:56.663414Z",
          "iopub.status.idle": "2022-04-29T05:14:56.669228Z",
          "shell.execute_reply.started": "2022-04-29T05:14:56.663370Z",
          "shell.execute_reply": "2022-04-29T05:14:56.667532Z"
        },
        "trusted": true,
        "id": "0ll4fqpdl_KP"
      },
      "execution_count": null,
      "outputs": []
    },
    {
      "cell_type": "code",
      "source": [
        "Y_pred= np.squeeze(Y_pred, axis=1)\n",
        "print(Y_pred.shape)"
      ],
      "metadata": {
        "execution": {
          "iopub.status.busy": "2022-04-29T05:14:56.671727Z",
          "iopub.execute_input": "2022-04-29T05:14:56.671987Z",
          "iopub.status.idle": "2022-04-29T05:14:56.679246Z",
          "shell.execute_reply.started": "2022-04-29T05:14:56.671954Z",
          "shell.execute_reply": "2022-04-29T05:14:56.678494Z"
        },
        "trusted": true,
        "id": "WpJA3yvCl_KP"
      },
      "execution_count": null,
      "outputs": []
    },
    {
      "cell_type": "code",
      "source": [
        "Y_test=np.argmax(y_test, axis=1)\n",
        "Y_pred=np.argmax(Y_pred, axis=1)"
      ],
      "metadata": {
        "execution": {
          "iopub.status.busy": "2022-04-29T05:14:56.680579Z",
          "iopub.execute_input": "2022-04-29T05:14:56.681085Z",
          "iopub.status.idle": "2022-04-29T05:14:56.687381Z",
          "shell.execute_reply.started": "2022-04-29T05:14:56.681050Z",
          "shell.execute_reply": "2022-04-29T05:14:56.686571Z"
        },
        "trusted": true,
        "id": "9gOKdZI1l_KP"
      },
      "execution_count": null,
      "outputs": []
    },
    {
      "cell_type": "code",
      "source": [
        "from sklearn.metrics import ConfusionMatrixDisplay\n",
        "\n",
        "\n",
        "print(Y_pred.shape , Y_test.shape)\n",
        "#pred=np.argmax(model.predict(x_test),axis=1)\n",
        "cm=confusion_matrix(Y_test,Y_pred)\n",
        "cm_plot=ConfusionMatrixDisplay(cm,display_labels=['0','1','2','3','4'])\n",
        "cm_plot.plot()\n",
        "plt.show()"
      ],
      "metadata": {
        "id": "cYUsUagct9Pn",
        "execution": {
          "iopub.status.busy": "2022-04-29T05:14:56.688600Z",
          "iopub.execute_input": "2022-04-29T05:14:56.689006Z",
          "iopub.status.idle": "2022-04-29T05:14:56.926476Z",
          "shell.execute_reply.started": "2022-04-29T05:14:56.688971Z",
          "shell.execute_reply": "2022-04-29T05:14:56.925761Z"
        },
        "trusted": true
      },
      "execution_count": null,
      "outputs": []
    },
    {
      "cell_type": "code",
      "source": [
        "print(\"Performance Report:\")\n",
        "# y_pred6=np.argmax(model.predict(x_test),axis=-1)\n",
        "\n",
        "# y_pred_prb6=model.predict(x_test)\n",
        "target=['0','1','2','3','4']\n",
        "from sklearn import metrics\n",
        "print('Accuracy score is :', metrics.accuracy_score(Y_test, Y_pred))\n",
        "print('Precision score is :', metrics.precision_score(Y_test, Y_pred, average='weighted'))\n",
        "print('Recall score is :',metrics.recall_score(Y_test,Y_pred, average='weighted'))\n",
        "print('F1 Score is :', metrics.f1_score(Y_test, Y_pred,average='weighted'))\n",
        "print('Cohen Kappa Score:', metrics.cohen_kappa_score(Y_test,Y_pred))\n",
        "#print('\\t\\tClassification Report:\\n', metrics.classification_report(Y_test,pred,target_names=target))"
      ],
      "metadata": {
        "id": "y2bqEu_pt9Po",
        "execution": {
          "iopub.status.busy": "2022-04-29T05:14:56.927630Z",
          "iopub.execute_input": "2022-04-29T05:14:56.927869Z",
          "iopub.status.idle": "2022-04-29T05:14:56.949374Z",
          "shell.execute_reply.started": "2022-04-29T05:14:56.927835Z",
          "shell.execute_reply": "2022-04-29T05:14:56.948735Z"
        },
        "trusted": true
      },
      "execution_count": null,
      "outputs": []
    },
    {
      "cell_type": "code",
      "source": [
        "plt.title(\"Test Image\")\n",
        "plt.imshow(x_test[1])\n",
        "plt.show()\n",
        "x_test1 = x_test[1]\n",
        "x_test1 = x_test1[np.newaxis,...]\n",
        "y_test3=np.argmax(y_test[1], axis=-1)\n",
        "pred=np.argmax(model.predict(x_test1),axis=-1)\n",
        "print(\"Level=\", pred)"
      ],
      "metadata": {
        "id": "YlDsTP7Jt9Po",
        "execution": {
          "iopub.status.busy": "2022-04-29T05:14:56.950682Z",
          "iopub.execute_input": "2022-04-29T05:14:56.950975Z",
          "iopub.status.idle": "2022-04-29T05:14:57.231100Z",
          "shell.execute_reply.started": "2022-04-29T05:14:56.950939Z",
          "shell.execute_reply": "2022-04-29T05:14:57.230273Z"
        },
        "trusted": true
      },
      "execution_count": null,
      "outputs": []
    },
    {
      "cell_type": "code",
      "source": [
        "# np.argmax(y_val,axis=-1)"
      ],
      "metadata": {
        "id": "PaAby8FLN1xt",
        "execution": {
          "iopub.status.busy": "2022-04-29T04:58:38.353289Z",
          "iopub.status.idle": "2022-04-29T04:58:38.353684Z",
          "shell.execute_reply.started": "2022-04-29T04:58:38.353470Z",
          "shell.execute_reply": "2022-04-29T04:58:38.353491Z"
        },
        "trusted": true
      },
      "execution_count": null,
      "outputs": []
    },
    {
      "cell_type": "code",
      "source": [
        "model.summary()\n"
      ],
      "metadata": {
        "execution": {
          "iopub.status.busy": "2022-04-29T05:14:57.232485Z",
          "iopub.execute_input": "2022-04-29T05:14:57.232920Z",
          "iopub.status.idle": "2022-04-29T05:14:57.246838Z",
          "shell.execute_reply.started": "2022-04-29T05:14:57.232859Z",
          "shell.execute_reply": "2022-04-29T05:14:57.246167Z"
        },
        "trusted": true,
        "id": "lUNaD_qxl_KR"
      },
      "execution_count": null,
      "outputs": []
    },
    {
      "cell_type": "code",
      "source": [
        ""
      ],
      "metadata": {
        "id": "ognNsOR9l_KR"
      },
      "execution_count": null,
      "outputs": []
    }
  ]
}